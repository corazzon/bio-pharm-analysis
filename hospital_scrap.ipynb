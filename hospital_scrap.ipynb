{
 "cells": [
  {
   "cell_type": "markdown",
   "metadata": {},
   "source": [
    "* [건강정보 > 병(의)원 정보 > 병(의)원 찾기 | 건강iN](https://hi.nhis.or.kr/ca/ggpca001/ggpca001_m03.do)"
   ]
  },
  {
   "cell_type": "code",
   "execution_count": null,
   "metadata": {},
   "outputs": [],
   "source": [
    "import requests\n",
    "import pandas as pd\n",
    "import numpy as np\n",
    "import json\n",
    "import time"
   ]
  },
  {
   "cell_type": "markdown",
   "metadata": {},
   "source": [
    "https://hi.nhis.or.kr/ca/ggpca001/ggpca001_p06.do"
   ]
  },
  {
   "cell_type": "code",
   "execution_count": null,
   "metadata": {},
   "outputs": [],
   "source": [
    "url = \"https://hi.nhis.or.kr/ca/ggpca001/ggpca001_p06.do\"\n",
    "params = \"isMobile=&pageNum=1&pageFirst=Y&pageSize=3&viewType=&ykiho=\"\n",
    "# params = params + \"&cur_sido_nm=&cur_sigungu_nm=&cur_emd_nm=&cur_sido=&cur_sigungu=&cur_emd=\"\n",
    "# params = params + \"&search_sido_nm=%EC%84%9C%EC%9A%B8%ED%8A%B9%EB%B3%84%EC%8B%9C&search_sigungu_nm=%EA%B0%95%EB%82%A8%EA%B5%AC\"\n",
    "# params = params + \"&search_emd_nm=&search_road_nm=&latitude=37.3246580766&longitude=127.9863282634&lat=&lng=&radius=1000&gpsYn=N&search_sido=11&search_sigungu=680&search_emd_gubun=emd&search_emd=&search_road=&search_name=&searchType=&searchClinicCode=&searchSpcClinicType=02&searchSpcClinicSrchCd=&searchPharmacyDayType=\""
   ]
  },
  {
   "cell_type": "code",
   "execution_count": null,
   "metadata": {},
   "outputs": [],
   "source": [
    "parameter = {}\n",
    "for p in params.split(\"&\")[1:]:\n",
    "    key = p.split(\"=\")[0]\n",
    "    val = p.split(\"=\")[1]\n",
    "    parameter[key] = val\n",
    "\n",
    "parameter"
   ]
  },
  {
   "cell_type": "code",
   "execution_count": null,
   "metadata": {},
   "outputs": [],
   "source": [
    "# pagination 에 보여줄 페이지 갯수이기 때문에 변경해도 크롤링에는 전혀 영향이 없음\n",
    "parameter[\"pageSize\"] = 3"
   ]
  },
  {
   "cell_type": "code",
   "execution_count": null,
   "metadata": {},
   "outputs": [],
   "source": [
    "# 찾을 시도의 이름으로 인코딩을 해서 전달해야함\n",
    "parameter['search_sido_nm'] = ''"
   ]
  },
  {
   "cell_type": "code",
   "execution_count": null,
   "metadata": {},
   "outputs": [],
   "source": [
    "def get_page(page_num):\n",
    "    parameter[\"pageNum\"] = page_num\n",
    "    response = requests.post(url, parameter)\n",
    "    data = json.loads(response.text)\n",
    "    return data\n",
    "\n",
    "data = get_page(2)\n",
    "data[\"totalCount\"]"
   ]
  },
  {
   "cell_type": "code",
   "execution_count": null,
   "metadata": {},
   "outputs": [],
   "source": [
    "# 마지막 페이지 번호를 찾을 수 있습니다.\n",
    "data[\"pagination\"]"
   ]
  },
  {
   "cell_type": "code",
   "execution_count": null,
   "metadata": {},
   "outputs": [],
   "source": [
    "df = pd.DataFrame(data[\"list\"])\n",
    "df.shape"
   ]
  },
  {
   "cell_type": "code",
   "execution_count": null,
   "metadata": {},
   "outputs": [],
   "source": [
    "df.head()"
   ]
  },
  {
   "cell_type": "code",
   "execution_count": null,
   "metadata": {},
   "outputs": [],
   "source": [
    "pd.DataFrame(data[\"list\"]).values"
   ]
  },
  {
   "cell_type": "code",
   "execution_count": null,
   "metadata": {},
   "outputs": [],
   "source": [
    "# 전체 데이터 수에서 한페이지를 가져올 때 10개의 데이터를 가져오기 때문에 10으로 나눠준다.\n",
    "# 소수점은 버리고 한페이지가 더 있을 수 있기 때문에 1을 더해준다.\n",
    "page_count = (data[\"totalCount\"] // 10) + 1\n",
    "# page_count = 5\n",
    "page_count"
   ]
  },
  {
   "cell_type": "code",
   "execution_count": null,
   "metadata": {
    "scrolled": false
   },
   "outputs": [],
   "source": [
    "from tqdm import tqdm\n",
    "page_list = []\n",
    "for page_num in tqdm(range(2315, page_count)):\n",
    "    # 서버의 부담을 줄이기 위해 약간의 시간차를 두고 가져옵니다.\n",
    "    time.sleep(np.random.uniform(0, 1))\n",
    "    data = get_page(page_num)\n",
    "    list_value = pd.DataFrame(data[\"list\"]).values\n",
    "    page_list.extend(list_value)\n",
    "    # 크롤링이 끝나고 저장하는 방법도 있지만 트래픽이 끊기거나 오류 등으로 인해 중단될 수도 있기 때문에 중간 중간 저장합니다.\n",
    "    if page_num % 10 == 0:\n",
    "        df = pd.DataFrame(page_list)\n",
    "        df.to_csv(\"page_list_2.csv\", index=False)"
   ]
  },
  {
   "cell_type": "code",
   "execution_count": null,
   "metadata": {},
   "outputs": [],
   "source": [
    "page_count"
   ]
  },
  {
   "cell_type": "code",
   "execution_count": null,
   "metadata": {},
   "outputs": [],
   "source": [
    "df.to_csv(\"page_list_2.csv\", index=False)"
   ]
  },
  {
   "cell_type": "code",
   "execution_count": null,
   "metadata": {},
   "outputs": [],
   "source": [
    "df_pre = pd.read_csv(\"page_list_2315.csv\", low_memory=False)\n",
    "df_pre.head()"
   ]
  },
  {
   "cell_type": "code",
   "execution_count": null,
   "metadata": {},
   "outputs": [],
   "source": [
    "df.head()"
   ]
  },
  {
   "cell_type": "code",
   "execution_count": null,
   "metadata": {},
   "outputs": [],
   "source": [
    "df_all = pd.concat([df_pre, df])\n",
    "df_all.shape"
   ]
  },
  {
   "cell_type": "code",
   "execution_count": null,
   "metadata": {},
   "outputs": [],
   "source": [
    "df_all"
   ]
  },
  {
   "cell_type": "code",
   "execution_count": null,
   "metadata": {},
   "outputs": [],
   "source": [
    "columns = pd.DataFrame(data[\"list\"]).columns\n",
    "columns"
   ]
  },
  {
   "cell_type": "code",
   "execution_count": null,
   "metadata": {},
   "outputs": [],
   "source": [
    "df.head()"
   ]
  },
  {
   "cell_type": "code",
   "execution_count": null,
   "metadata": {},
   "outputs": [],
   "source": [
    "df[\"SI_DO_CD\"].value_counts()"
   ]
  },
  {
   "cell_type": "code",
   "execution_count": null,
   "metadata": {},
   "outputs": [],
   "source": [
    "df[\"VIEW_TYPE\"].unique()"
   ]
  },
  {
   "cell_type": "code",
   "execution_count": null,
   "metadata": {},
   "outputs": [],
   "source": [
    "df[\"CLSFC_CD_DESC\"].value_counts()"
   ]
  },
  {
   "cell_type": "code",
   "execution_count": null,
   "metadata": {},
   "outputs": [],
   "source": [
    "import csv\n",
    "with open('hospital_list.csv', 'w', newline='') as f:\n",
    "    writer = csv.writer(f)\n",
    "    writer.writerows(page_list)"
   ]
  },
  {
   "cell_type": "code",
   "execution_count": null,
   "metadata": {},
   "outputs": [],
   "source": [
    "pd.read_csv(\"hospital_list.csv\").shape"
   ]
  },
  {
   "cell_type": "code",
   "execution_count": null,
   "metadata": {},
   "outputs": [],
   "source": [
    "df.to_csv(\"hospital_list.csv\", index=False)"
   ]
  },
  {
   "cell_type": "code",
   "execution_count": null,
   "metadata": {},
   "outputs": [],
   "source": []
  },
  {
   "cell_type": "code",
   "execution_count": null,
   "metadata": {},
   "outputs": [],
   "source": []
  },
  {
   "cell_type": "code",
   "execution_count": null,
   "metadata": {},
   "outputs": [],
   "source": []
  },
  {
   "cell_type": "code",
   "execution_count": null,
   "metadata": {},
   "outputs": [],
   "source": []
  },
  {
   "cell_type": "code",
   "execution_count": null,
   "metadata": {},
   "outputs": [],
   "source": []
  },
  {
   "cell_type": "code",
   "execution_count": null,
   "metadata": {},
   "outputs": [],
   "source": []
  }
 ],
 "metadata": {
  "kernelspec": {
   "display_name": "Python 3",
   "language": "python",
   "name": "python3"
  },
  "language_info": {
   "codemirror_mode": {
    "name": "ipython",
    "version": 3
   },
   "file_extension": ".py",
   "mimetype": "text/x-python",
   "name": "python",
   "nbconvert_exporter": "python",
   "pygments_lexer": "ipython3",
   "version": "3.7.6"
  },
  "varInspector": {
   "cols": {
    "lenName": 16,
    "lenType": 16,
    "lenVar": 40
   },
   "kernels_config": {
    "python": {
     "delete_cmd_postfix": "",
     "delete_cmd_prefix": "del ",
     "library": "var_list.py",
     "varRefreshCmd": "print(var_dic_list())"
    },
    "r": {
     "delete_cmd_postfix": ") ",
     "delete_cmd_prefix": "rm(",
     "library": "var_list.r",
     "varRefreshCmd": "cat(var_dic_list()) "
    }
   },
   "types_to_exclude": [
    "module",
    "function",
    "builtin_function_or_method",
    "instance",
    "_Feature"
   ],
   "window_display": false
  }
 },
 "nbformat": 4,
 "nbformat_minor": 4
}
